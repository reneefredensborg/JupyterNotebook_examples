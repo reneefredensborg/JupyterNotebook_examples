{
 "cells": [
  {
   "cell_type": "markdown",
   "id": "3db5e573-8bad-473e-a360-a8a7697dfb19",
   "metadata": {},
   "source": [
    "# Test of JupterLab for lectures/course work"
   ]
  },
  {
   "cell_type": "markdown",
   "id": "89eaa7d3-e0cb-422e-9bad-70aae16893ff",
   "metadata": {},
   "source": [
    "Required for installation: \n",
    "- Anaconda \n",
    "\n",
    "\n",
    "More text ...\n",
    "\n",
    "Config file ..."
   ]
  },
  {
   "cell_type": "markdown",
   "id": "7c47f925-25f6-4b3a-8a78-43213dbc246a",
   "metadata": {},
   "source": [
    "#### Initialization of libraries and programs"
   ]
  },
  {
   "cell_type": "code",
   "execution_count": null,
   "id": "2243cfb9-c771-49f0-bacb-41c12f2db15f",
   "metadata": {},
   "outputs": [],
   "source": [
    "import numpy as np\n",
    "import matplotlib as mpl\n",
    "import matplotlib.pyplot as plt\n",
    "import mpl_toolkits \n",
    "import pandas as pd \n",
    "import netCDF4\n",
    "import os\n",
    "import sys\n",
    "import copy \n",
    "import glob\n",
    "import cartopy\n",
    "import proplot as plot\n",
    "import pyproj\n",
    "import scipy\n",
    "\n",
    "\n",
    "from scipy.interpolate import griddata\n",
    "from scipy import stats\n",
    "from netCDF4 import Dataset,num2date\n",
    "\n",
    "\n",
    "\n",
    "# Say, \"the default sans-serif font is COMIC SANS\"\n",
    "mpl.rcParams['font.sans-serif'] = \"Arial\"\n",
    "# Then, \"ALWAYS use sans-serif fonts\"\n",
    "mpl.rcParams['font.family'] = \"sans-serif\""
   ]
  },
  {
   "cell_type": "markdown",
   "id": "c35f7642-4b79-473b-8901-1ec02e3e2235",
   "metadata": {},
   "source": [
    "#### Defined functions"
   ]
  },
  {
   "cell_type": "code",
   "execution_count": null,
   "id": "e6bdbb8e-9083-4926-93c4-1c8823a6ca2d",
   "metadata": {},
   "outputs": [],
   "source": [
    "def load_data(path, fp, lon_var, lat_var, wf_var, coh_var, ph_diff_var):\n",
    "    nc_file = netCDF4.Dataset(path + '/' + fp, 'r')\n",
    "    lon = nc_file.variables[lon_var][:]\n",
    "    lat = nc_file.variables[lat_var][:]\n",
    "    wf = nc_file.variables[wf_var][:]\n",
    "    coh_wf = nc_file.variables[coh_var][:]\n",
    "    ph_diff_wf = nc_file.variables[ph_diff_var][:]\n",
    "    \n",
    "    return  lon, lat, wf, coh_wf, ph_diff_wf"
   ]
  },
  {
   "cell_type": "code",
   "execution_count": null,
   "id": "3e0743c7-cb91-4430-8c97-4a1df72868ef",
   "metadata": {},
   "outputs": [],
   "source": [
    "nc_dir = \"./data/\"\n",
    "nc_files = glob.glob(nc_dir+\"*.nc\")\n",
    "nc_files"
   ]
  },
  {
   "cell_type": "code",
   "execution_count": null,
   "id": "5e34e6de-b35c-491d-9e14-21801bad6024",
   "metadata": {},
   "outputs": [],
   "source": [
    "os.listdir()"
   ]
  },
  {
   "cell_type": "markdown",
   "id": "89a0c9cd-0ce6-45eb-82bc-5cc58a3441d1",
   "metadata": {},
   "source": [
    "## Load data"
   ]
  },
  {
   "cell_type": "code",
   "execution_count": null,
   "id": "29688d60-d8ef-4ef8-ae80-66a80773ef5a",
   "metadata": {},
   "outputs": [],
   "source": [
    "path = \"data\"\n",
    "\n",
    "fp = 'CS_OFFL_SIR_SIN_1B_20220406T191539_20220406T192029_E001.nc'\n",
    "lon, lat, wf, coh_wf, ph_diff_wf = load_data(path, fp, 'lon_20_ku', 'lat_20_ku', 'pwr_waveform_20_ku', 'coherence_waveform_20_ku','ph_diff_waveform_20_ku')\n",
    "df_CS2b = pd.DataFrame({'lat':lat, 'lon':lon})\n",
    "df_CS2b = df_CS2b[(df_CS2b['lat']>82)].reset_index()\n",
    "coh_wf[coh_wf>1]=0"
   ]
  },
  {
   "cell_type": "markdown",
   "id": "2449b01a-c6ec-48b0-a24b-2d71208f1e3b",
   "metadata": {},
   "source": [
    "## Plot example of waveforms, coherence waveform and phase difference waveform"
   ]
  },
  {
   "cell_type": "code",
   "execution_count": null,
   "id": "d68eada6-1cb5-4d5a-a1e5-820362b3dbe7",
   "metadata": {},
   "outputs": [],
   "source": [
    "fig, axs = plot.subplots([[1,2,3]], share=0, axwidth=2, axheight=2)\n",
    "fig.patch.set_facecolor('white')\n",
    "\n",
    "ax=axs[0]\n",
    "n=150\n",
    "n_s = 0.05\n",
    "ax.plot(wf[n], s=n_s)\n",
    "ax.format(xlabel='bins', ylabel='power')\n",
    "\n",
    "ax=axs[1]\n",
    "ax.plot(coh_wf[n], s=n_s)\n",
    "#ax.format(ylim=[0,1])\n",
    "ax.format(xlabel='bins', ylabel='coherence')\n",
    "\n",
    "ax=axs[2]\n",
    "ax.plot(ph_diff_wf[n], s=n_s)\n",
    "ax.format(xlabel='bins', ylabel='phase difference')"
   ]
  },
  {
   "cell_type": "markdown",
   "id": "ed243698-ea3c-47d5-9cd1-f97789fd6f7d",
   "metadata": {},
   "source": [
    "## Plot geographic location of data"
   ]
  },
  {
   "cell_type": "code",
   "execution_count": null,
   "id": "4f5a17c3-65dc-47d9-b6a7-3272fc6c9790",
   "metadata": {},
   "outputs": [],
   "source": [
    "import proplot as pplt\n",
    "import cartopy.feature as cfeature\n",
    "\n",
    "fig, axs = pplt.subplots([[1]], share=0, axwidth=3, axheight=3, proj='laea',proj_kw={'lat_0': 88, 'lon_0': 0})\n",
    "resol='10m'\n",
    "land = cartopy.feature.NaturalEarthFeature('physical', 'land', \\\n",
    "    scale=resol, edgecolor='k', facecolor=cfeature.COLORS['land'])\n",
    "    \n",
    "axs.add_feature(cfeature.LAND, facecolor='lightgrey')\n",
    "axs.coastlines(resolution=resol, color='k')\n",
    "\n",
    "x=axs.scatter(np.array(df_CS2b['lon']), np.array(df_CS2b['lat']), c='g', s=1, marker = \"o\", zorder=3, label = 'CS2b')\n",
    "n = 150\n",
    "x=axs.scatter(np.array(lon[n]), np.array(lat[n]), c='y', s=50, marker = \"*\", zorder=4, label = 'CS2 example')\n",
    "\n",
    "axs.format(lonlim=(-20, 10), latlim=(78, 85))\n",
    "fig.format( labels=True, abc='A.', abcloc=\"ur\")\n",
    "ax.legend(loc='lr', ncols=1, scatterpoints=3, markerscale=2)\n",
    "\n",
    "#fig.format(abc='A.', abcloc=\"ur\")\n"
   ]
  }
 ],
 "metadata": {
  "kernelspec": {
   "display_name": "Python 3 (ipykernel)",
   "language": "python",
   "name": "python3"
  },
  "language_info": {
   "codemirror_mode": {
    "name": "ipython",
    "version": 3
   },
   "file_extension": ".py",
   "mimetype": "text/x-python",
   "name": "python",
   "nbconvert_exporter": "python",
   "pygments_lexer": "ipython3",
   "version": "3.9.18"
  }
 },
 "nbformat": 4,
 "nbformat_minor": 5
}
