{
 "cells": [
  {
   "cell_type": "markdown",
   "id": "3db5e573-8bad-473e-a360-a8a7697dfb19",
   "metadata": {},
   "source": [
    "# Test of JupterLab for lectures/course work"
   ]
  },
  {
   "cell_type": "markdown",
   "id": "89eaa7d3-e0cb-422e-9bad-70aae16893ff",
   "metadata": {},
   "source": [
    "Required for installation: \n",
    "- Anaconda \n",
    "\n",
    "\n",
    "More text ...\n",
    "\n",
    "Config file ..."
   ]
  },
  {
   "cell_type": "markdown",
   "id": "7c47f925-25f6-4b3a-8a78-43213dbc246a",
   "metadata": {},
   "source": [
    "#### Initialization of libraries and programs"
   ]
  },
  {
   "cell_type": "code",
   "execution_count": 1,
   "id": "2243cfb9-c771-49f0-bacb-41c12f2db15f",
   "metadata": {},
   "outputs": [],
   "source": [
    "import numpy as np \n",
    "import matplotlib.pyplot as plt \n",
    "import proplot as pplt"
   ]
  },
  {
   "cell_type": "markdown",
   "id": "c35f7642-4b79-473b-8901-1ec02e3e2235",
   "metadata": {},
   "source": [
    "#### Defined functions"
   ]
  },
  {
   "cell_type": "code",
   "execution_count": null,
   "id": "e6bdbb8e-9083-4926-93c4-1c8823a6ca2d",
   "metadata": {},
   "outputs": [],
   "source": []
  },
  {
   "cell_type": "markdown",
   "id": "89a0c9cd-0ce6-45eb-82bc-5cc58a3441d1",
   "metadata": {},
   "source": [
    "## Load data"
   ]
  },
  {
   "cell_type": "code",
   "execution_count": null,
   "id": "29688d60-d8ef-4ef8-ae80-66a80773ef5a",
   "metadata": {},
   "outputs": [],
   "source": []
  },
  {
   "cell_type": "code",
   "execution_count": null,
   "id": "0131280f-31f6-446d-8ec9-da233d7cf64b",
   "metadata": {},
   "outputs": [],
   "source": []
  },
  {
   "cell_type": "code",
   "execution_count": null,
   "id": "d68eada6-1cb5-4d5a-a1e5-820362b3dbe7",
   "metadata": {},
   "outputs": [],
   "source": []
  }
 ],
 "metadata": {
  "kernelspec": {
   "display_name": "Python 3 (ipykernel)",
   "language": "python",
   "name": "python3"
  },
  "language_info": {
   "codemirror_mode": {
    "name": "ipython",
    "version": 3
   },
   "file_extension": ".py",
   "mimetype": "text/x-python",
   "name": "python",
   "nbconvert_exporter": "python",
   "pygments_lexer": "ipython3",
   "version": "3.9.7"
  }
 },
 "nbformat": 4,
 "nbformat_minor": 5
}
